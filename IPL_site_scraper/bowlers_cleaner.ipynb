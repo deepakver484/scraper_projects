{
 "cells": [
  {
   "cell_type": "code",
   "execution_count": 1,
   "id": "ef4542f2",
   "metadata": {},
   "outputs": [],
   "source": [
    "import pandas as pd\n",
    "import numpy as np\n",
    "from bs4 import BeautifulSoup\n",
    "import requests"
   ]
  },
  {
   "cell_type": "code",
   "execution_count": 2,
   "id": "f3b07394",
   "metadata": {},
   "outputs": [],
   "source": [
    "df = pd.read_csv(\"bowlers_score_card.csv\")"
   ]
  },
  {
   "cell_type": "code",
   "execution_count": 4,
   "id": "9186b6cb",
   "metadata": {},
   "outputs": [
    {
     "data": {
      "text/plain": [
       "array(['Ashok Dinda', 'Ishant Sharma', 'Ajit Agarkar', 'Sourav Ganguly',\n",
       "       'Laxmi Ratan Shukla', 'Praveen Kumar', 'Zaheer Khan',\n",
       "       'Ashley Noffke', 'Jacques Kallis', 'Sunil Joshi', 'Cameron White',\n",
       "       'Munaf Patel', 'Shane Watson', 'Siddharth Trivedi', 'Shane Warne',\n",
       "       'Yusuf Pathan', 'Dinesh Salunkhe', 'Glenn Mcgrath', 'Brett Geeves',\n",
       "       'Mf Maharoof', 'Rajat Bhatia', 'Daniel Vettori', 'Jacob Oram',\n",
       "       'Manpreet Gony', 'Muttiah Muralitharan', 'Palani Amarnath',\n",
       "       'Joginder Sharma', 'Brett Lee', 'Shanthakumaran Sreesanth',\n",
       "       'James Hopes', 'Irfan Pathan', 'Karan Goel', 'Piyush Chawla',\n",
       "       'Wilkin Mota', 'Ashish Nehra', 'Shaun Pollock', 'Dhawal Kulkarni',\n",
       "       'Sanath Jayasuriya', 'Harbhajan Singh', 'Abhishek Nayar',\n",
       "       'Vinay Kumar', 'Balachandra Akhil', 'Chaminda Vaas', 'Rp Singh',\n",
       "       'Scott Styris', 'Sanjay Bangar', 'Andrew Symonds', 'Pragyan Ojha',\n",
       "       'Murali Kartik', 'Mohammad Hafeez', 'David Hussey', 'Pankaj Singh',\n",
       "       'Shahid Afridi', 'Mohammad Asif', 'Yo Mahesh', 'Dwayne Bravo',\n",
       "       'Vikrant Yeligati', 'Musavir Khote', 'Doddapaneni Kalyankrishna',\n",
       "       'Vikram Singh', 'Anil Kumble', 'Sohail Tanvir',\n",
       "       'Siddharth Chitnis', 'Nuwan Zoysa', 'Shoaib Malik', 'Yuvraj Singh',\n",
       "       'Albie Morkel', 'Dale Steyn', 'Dilhara Fernando',\n",
       "       'Virender Sehwag', 'Virat Kohli', 'Venugopal Rao',\n",
       "       'Gajendra Singh', 'Umar Gul', 'Makhaya Ntini', 'Pradeep Sangwan',\n",
       "       'Paidikalva Vijaykumar', 'Suresh Raina', 'Vidyut Sivaramakrishnan',\n",
       "       'Dominic Thornely', 'Rohan Raje', 'Lakshmipathy Balaji',\n",
       "       'Chamara Kapugedera', 'Amit Mishra', 'Dimitri Mascarenhas',\n",
       "       'Shoaib Akhtar', 'Iqbal Abdulla', 'Pm Sarvesh Kumar',\n",
       "       'Ramesh Powar', 'Ravindra Jadeja', 'Abdur Razzak',\n",
       "       'Tillakaratne Dilshan', 'Dwayne Smith', 'Rohit Sharma',\n",
       "       'Andre Nel', 'Ajantha Mendis', 'Dwaraka Ravi Teja', 'Lpc Silva',\n",
       "       'Jesse Ryder', 'Kamran Khan', 'Tyron Henderson', 'Lasith Malinga',\n",
       "       'Thilan Thushara', 'Andrew Flintoff', 'Chris Gayle',\n",
       "       'Moises Henriques', 'Fh Edwards - Duplicate',\n",
       "       'Harmeet Singh Bansal', 'Yusuf Abdulla', 'Vikramjeet Malik',\n",
       "       'Dirk Nannes', 'Aavishkar Salvi', 'Kevin Pietersen', 'Ross Taylor',\n",
       "       'Ravi Bopara', 'Manoj Tiwary', 'Anureet Singh', 'Ranadeb Bose',\n",
       "       'Kp Appanna', 'Sachin Tendulkar', 'Brad Hodge', 'Shoaib Ahmed',\n",
       "       'Jp Duminy', 'Roelof Van Der Merwe', 'Sudeep Tyagi',\n",
       "       'Graham Napier', 'Shadab Jakati', 'Shane Harwood', 'Abhishek Raut',\n",
       "       'Dillon Du Preez', 'Ryan Harris', 'Tirumalasetti Suman',\n",
       "       'Amit Singh', 'Morne Morkel', 'Lee Carseldine', 'Sourav Sarkar',\n",
       "       'Chetanya Nanda', 'Abhimanyu Mithun', 'Ajinkya Rahane',\n",
       "       'Angelo Mathews', 'Johan Botha', 'Mashrafe Mortaza',\n",
       "       'Andrew Mcdonald', 'Yogesh Nagar', 'Ravichandran Ashwin',\n",
       "       'Charl Langeveldt', 'Jaskaran Singh', 'Rahil Shaikh',\n",
       "       'Ryan Mclaren', 'Ali Murtaza', 'Rajagopal Sathish', 'Shaun Tait',\n",
       "       'Amit Uniyal', 'Abhishek Jhunjhunwala', 'Jm Kemp',\n",
       "       'Rohan Gavaskar', 'Sarabjit Ladda', 'Shane Bond', 'Bipul Sharma',\n",
       "       'Kieron Pollard', 'Sumit Narwal', 'Shalabh Srivastava',\n",
       "       'Umesh Yadav', 'Adam Voges', 'Rahul Sharma', 'Juan Theron',\n",
       "       'Thisara Perera', 'Kemar Roach', 'Paul Collingwood',\n",
       "       'Chandrasekar Ganapathy', 'Mohnish Parmar', 'Doug Bollinger',\n",
       "       'Shrikant Wagh', 'Jaydev Unadkat', 'Aditya Dole',\n",
       "       'An Ahmed Duplicate', 'Faiz Fazal', 'Mitchell Marsh',\n",
       "       'Love Ablish', 'Sridharan Sriram', 'Aaron Finch', 'Stuart Binny',\n",
       "       'Nayan Doshi', 'Tim Southee', 'Suraj Randiv', 'Raiphi Gomez',\n",
       "       'Asad Pathan', 'Dan Christian', 'Ashok Menaria',\n",
       "       'Nathan Rimmington', 'Alfonso Thomas', 'Wayne Parnell',\n",
       "       'Mithun Manhas', 'James Franklin', 'Ryan Ten Doeschate',\n",
       "       'Shahbaz Nadeem', 'Bhargav Bhatt', 'Johan Van Der Wath',\n",
       "       'Sreenath Aravind', 'Ryan Ninan', 'Shakib Al Hasan',\n",
       "       'Paul Valthaty', 'Shikhar Dhawan', 'Syed Mohammad', 'Varun Aaron',\n",
       "       'Nathan Mccullum', 'Je Taylor', 'Nuwan Kulasekara',\n",
       "       'P Parameswaran', 'Ambati Rayudu', 'Ishan Malhotra',\n",
       "       'Bharat Chipli', 'Bhuvneshwar Kumar', 'Abrar Kazi', 'Anand Rajan',\n",
       "       'Ankeet Chavan', 'Padmanabhan Prasanth', 'Y Gnaneswara Rao',\n",
       "       'Sachin Rana', 'James Faulkner', 'Ss Mundhe', 'Ray Price',\n",
       "       'Abu Nechim', 'Marchant De Lange', 'Glenn Maxwell', 'Kevon Cooper',\n",
       "       'Mandeep Singh', 'Marlon Samuels', 'Faf Du Plessis',\n",
       "       'Ankit Sharma', 'Daniel Harris', 'Tp Sudhindra', 'Harshal Patel',\n",
       "       'Doug Bracewell', 'Sunil Narine', 'Brad Hogg', 'Parvinder Awana',\n",
       "       'Raju Bhatkal', 'Clint Mckay', 'Veer Pratap Singh',\n",
       "       'Azhar Mahmood', 'Ajit Chandila', 'Luke Wright', 'Pawan Negi',\n",
       "       'Robin Peterson', 'Ashish Reddy', 'Rahul Shukla', 'Akshath Reddy',\n",
       "       'Michael Clarke', 'Ben Hilfenhaus',\n",
       "       'Prasanth Parameswaran Duplicate', 'Steve Smith', 'Andre Russell',\n",
       "       'Krishnakant Upadhyay', 'Sunny Gupta', 'Mitchell Johnson',\n",
       "       'Jasprit Bumrah', 'Ankit Rajpoot', 'Ben Laughlin', 'Samuel Badree',\n",
       "       'Hanuma Vihari', 'Mohammad Shami', 'Jeevan Mendis', 'Chris Morris',\n",
       "       'Harmeet Singh', 'Siddarth Kaul', 'Ravi Rampaul', 'Mohit Sharma',\n",
       "       'Rishi Dhawan', 'Sachithra Senanayake', 'Karn Sharma',\n",
       "       'Jason Holder', 'Ishwar Pandey', 'Yuzvendra Chahal',\n",
       "       'Darren Sammy', 'Kane Richardson', 'Pawan Suyal', 'Michael Neser',\n",
       "       'Ben Rohrer', 'Pravin Tambe', 'Parveez Rasool', 'Sandeep Sharma',\n",
       "       'Adam Gilchrist', 'Nathan Coulter-nile', 'Corey Anderson',\n",
       "       'Jimmy Neesham', 'Mitchell Starc', 'Axar Patel', 'Murali Vijay',\n",
       "       'Rahul Tewatia', 'Suryakumar Yadav', 'Shivam Sharma',\n",
       "       'Imran Tahir', 'Vijay Shankar', 'Lendl Simmons', 'Ben Cutting',\n",
       "       'Beuran Hendricks', 'Krishmar Santokie', 'Shreyas Gopal',\n",
       "       'Pat Cummins', 'John Hastings', 'Karanveer Singh', 'Domnic Joseph',\n",
       "       'Kc Cariappa', 'Sean Abbott', 'Trent Boult', 'Jagadeesha Suchith',\n",
       "       'Deepak Hooda', 'Mitchell Mcclenaghan', 'Hardik Pandya',\n",
       "       'David Wiese', 'Ronit More', 'Shardul Thakur', 'Gurinder Sandhu',\n",
       "       'Jayant Yadav', 'Gurkeerat Mann Singh', 'Barinder Sran',\n",
       "       'Murugan Ashwin', 'Carlos Brathwaite', 'Colin Munro',\n",
       "       'Marcus Stoinis', 'Pradeep Sahu', 'Adam Milne',\n",
       "       'Mustafizur Rahman', 'Kuldeep Yadav', 'Krunal Pandya',\n",
       "       'Kyle Abbott', 'Tabraiz Shamsi', 'Shivil Kaushik', 'Scott Boland',\n",
       "       'Swapnil Singh', 'Adam Zampa', 'Chris Jordan', 'Sachin Baby',\n",
       "       'Nitish Rana', 'Deepak Chahar', 'Kane Williamson', 'Rashid Khan',\n",
       "       'Tymal Mills', 'Aniket Choudhary', 'Travis Head', 'Ben Stokes',\n",
       "       'Chris Woakes', 'Billy Stanlake', 'Rahul Chahar', 'T Natarajan',\n",
       "       'Tejas Baroka', 'Basil Thampi', 'Colin De Grandhomme',\n",
       "       'Lockie Ferguson', 'Andrew Tye', 'Mohammad Nabi', 'Mohammed Siraj',\n",
       "       'Kagiso Rabada', 'Washington Sundar', 'Shubham Agarwal',\n",
       "       'Nathu Singh', 'Rahul Tripathi', 'Ankit Soni', 'Matt Henry',\n",
       "       'Avesh Khan', 'Mayank Markande', 'Mark Wood', 'Kulwant Khejroliya',\n",
       "       'Mujeeb Ur Rahman', 'Krishnappa Gowtham', 'Tom Curran',\n",
       "       'Shivam Mavi', 'Akila Dananjaya', 'Jofra Archer', 'Liam Plunkett',\n",
       "       'Ish Sodhi', 'Mahipal Lomror', 'Lungi Ngidi', 'Km Asif',\n",
       "       'David Willey', 'Prasidh Krishna', 'Moeen Ali',\n",
       "       'Sandeep Lamichhane', 'Junior Dala', 'Javon Searles',\n",
       "       'Khaleel Ahmed', 'Navdeep Saini', 'Shivam Dube', 'Keemo Paul',\n",
       "       'Rasikh Salam', 'Sam Curran', 'Varun Chakaravarthy',\n",
       "       'Hardus Viljoen', 'Mitchell Santner', 'Prayas Ray Barman',\n",
       "       'Jason Behrendorff', 'Alzarri Joseph', 'Scott Kuggeleijn',\n",
       "       'Sudhesan Midhun', 'Harry Gurney', 'Riyan Parag', 'Sarfaraz Khan',\n",
       "       'Liam Livingstone', 'Abhishek Sharma', 'Arshdeep Singh',\n",
       "       'Harpreet Brar', 'Sherfane Rutherford', 'Prithvi Raj Yarra',\n",
       "       'Oshane Thomas', 'Anukul Roy', 'Sandeep Warrier',\n",
       "       'James Pattinson', 'Anrich Nortje', 'Sheldon Cottrell',\n",
       "       'Ravi Bishnoi', 'Josh Hazlewood', 'Kamlesh Nagarkoti',\n",
       "       'Isuru Udana', 'Abdul Samad', 'Kartik Tyagi', 'Tushar Deshpande',\n",
       "       'Chris Green', 'Shahbaz Ahmed', 'Daniel Sams', 'Monu Kumar',\n",
       "       'David Warner', 'Pravin Dubey', 'Marco Jansen', 'Kyle Jamieson',\n",
       "       'Jhye Richardson', 'Riley Meredith', 'Chetan Sakariya',\n",
       "       'Jalaj Saxena', 'Lukman Meriwala', 'Lalit Yadav', 'Fabian Allen',\n",
       "       'Wanindu Hasaranga', 'Ishan Porel', 'Adil Rashid', 'Nathan Ellis',\n",
       "       'Venkatesh Iyer', 'Aiden Markram', 'George Garton', 'Akash Singh',\n",
       "       'Glenn Phillips', 'Umran Malik', 'Kuldip Yadav', 'Ripal Patel',\n",
       "       'Akash Deep', 'Odean Smith', 'Dushmantha Chameera', 'Mohsin Khan',\n",
       "       'Romario Shepherd', 'Mukesh Choudhary', 'Dwaine Pretorius',\n",
       "       'Vaibhav Arora', 'Yashasvi Jaiswal', 'Tilak Varma',\n",
       "       'Darshan Nalkande', 'Dewald Brevis', 'Maheesh Theekshana',\n",
       "       'Kuldeep Sen', 'Rovman Powell', 'Yash Dayal', 'James Neesham',\n",
       "       'Aman Khan', 'Shashank Singh', 'Obed Mccoy', 'Hrithik Shokeen',\n",
       "       'Ayush Badoni', 'Daryl Mitchell', 'Harshit Rana', 'Shreyas Iyer',\n",
       "       'Kumar Kartikeya Singh', 'Simarjeet Singh', 'Fazalhaq Farooqi',\n",
       "       'Sai Kishore', 'Ramandeep Singh', 'Prashant Solanki',\n",
       "       'Matheesha Pathirana', 'Sanjay Yadav', 'Rajvardhan Hangargekar',\n",
       "       'Josh Little', 'Kyle Mayers', 'Mukesh Kumar', 'Sikandar Raza',\n",
       "       'Arshad Khan', 'Cameron Green', 'Reece Topley',\n",
       "       'Michael Bracewell', 'Asif K M', 'Yash Thakur', 'Suyash Sharma',\n",
       "       'Sisanda Magala', 'Mohit Rathee', 'Matthew Short', 'Yudhvir Singh',\n",
       "       'Vyshak Vijaykumar', 'Noor Ahmad', 'Arjun Tendulkar',\n",
       "       'Duan Jansen', 'Naveen-ul-haq', 'Mayank Dagar', 'Gurnoor Brar',\n",
       "       'Akeal Hosein', 'Akash Madhwal', 'Raghav Goyal', 'Tristan Stubbs',\n",
       "       'Vivrant Sharma', 'Joe Root', 'Praveen Dubey',\n",
       "       'Nitish Kumar Reddy', 'Himanshu Sharma'], dtype=object)"
      ]
     },
     "execution_count": 4,
     "metadata": {},
     "output_type": "execute_result"
    }
   ],
   "source": [
    "df['Bowler'].unique()"
   ]
  },
  {
   "cell_type": "code",
   "execution_count": 5,
   "id": "9f439c70",
   "metadata": {},
   "outputs": [],
   "source": [
    "df1 = pd.DataFrame()"
   ]
  },
  {
   "cell_type": "code",
   "execution_count": 6,
   "id": "ad1fae0e",
   "metadata": {},
   "outputs": [],
   "source": [
    "df1['name'] = df['Bowler'].unique()"
   ]
  },
  {
   "cell_type": "code",
   "execution_count": 8,
   "id": "6f55d28b",
   "metadata": {},
   "outputs": [],
   "source": [
    "df1[\"name\"] = df1[\"name\"].str.replace(\" \", \"_\")"
   ]
  },
  {
   "cell_type": "code",
   "execution_count": 9,
   "id": "3fe272ca",
   "metadata": {},
   "outputs": [
    {
     "data": {
      "text/plain": [
       "0             Ashok_Dinda\n",
       "1           Ishant_Sharma\n",
       "2            Ajit_Agarkar\n",
       "3          Sourav_Ganguly\n",
       "4      Laxmi_Ratan_Shukla\n",
       "              ...        \n",
       "504        Vivrant_Sharma\n",
       "505              Joe_Root\n",
       "506         Praveen_Dubey\n",
       "507    Nitish_Kumar_Reddy\n",
       "508       Himanshu_Sharma\n",
       "Name: name, Length: 509, dtype: object"
      ]
     },
     "execution_count": 9,
     "metadata": {},
     "output_type": "execute_result"
    }
   ],
   "source": [
    "df1.name"
   ]
  },
  {
   "cell_type": "code",
   "execution_count": 10,
   "id": "ad7e265c",
   "metadata": {},
   "outputs": [],
   "source": [
    "base_url = \"https://en.wikipedia.org/wiki/\"\n",
    "name = \"Ashok_Dinda\"\n",
    "url = base_url + name\n",
    "soup = BeautifulSoup(requests.get(url).text)"
   ]
  },
  {
   "cell_type": "code",
   "execution_count": null,
   "id": "5a93c2a8",
   "metadata": {},
   "outputs": [],
   "source": []
  },
  {
   "cell_type": "code",
   "execution_count": 11,
   "id": "5c4b72b8",
   "metadata": {},
   "outputs": [],
   "source": [
    "def detail_player(name):\n",
    "    base_url = \"https://en.wikipedia.org/wiki/\"\n",
    "    url = base_url + name\n",
    "    soup = BeautifulSoup(requests.get(url).text)\n",
    "    try:\n",
    "        bday = soup.find(\"span\", class_ = \"bday\").text\n",
    "    except:\n",
    "        bday = np.nan\n",
    "    try:\n",
    "        place = soup.find(\"span\", class_ = \"birthplace\").text\n",
    "    except:\n",
    "        place = np.nan\n",
    "    try:\n",
    "        cate = soup.find_all(\"td\", class_ = \"infobox-data category\")\n",
    "    except:\n",
    "        cate = np.nan\n",
    "    try:\n",
    "        batting_style = cate[0].text\n",
    "    except:\n",
    "        batting_style = np.nan\n",
    "    try:\n",
    "        bowling_style = cate[1].text\n",
    "    except:\n",
    "        bowling_style = np.nan\n",
    "    try:\n",
    "        role = soup.find(\"td\", class_= \"infobox-data role\").text\n",
    "    except:\n",
    "        role = np.nan\n",
    "    return bday, place, batting_style, bowling_style, role"
   ]
  },
  {
   "cell_type": "code",
   "execution_count": 12,
   "id": "15470cd7",
   "metadata": {},
   "outputs": [],
   "source": [
    "df1[[\"DOB\", \"place\", \"batting_style\", \"bowling_style\", \"role\"]] = df1['name'].apply(lambda x: pd.Series(detail_player(x)))"
   ]
  },
  {
   "cell_type": "code",
   "execution_count": null,
   "id": "405bbe80",
   "metadata": {},
   "outputs": [],
   "source": []
  }
 ],
 "metadata": {
  "kernelspec": {
   "display_name": "Python 3 (ipykernel)",
   "language": "python",
   "name": "python3"
  },
  "language_info": {
   "codemirror_mode": {
    "name": "ipython",
    "version": 3
   },
   "file_extension": ".py",
   "mimetype": "text/x-python",
   "name": "python",
   "nbconvert_exporter": "python",
   "pygments_lexer": "ipython3",
   "version": "3.10.9"
  }
 },
 "nbformat": 4,
 "nbformat_minor": 5
}

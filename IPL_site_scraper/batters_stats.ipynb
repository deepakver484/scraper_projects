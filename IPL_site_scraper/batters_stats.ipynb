{
 "cells": [
  {
   "cell_type": "code",
   "execution_count": 25,
   "id": "e72206a4",
   "metadata": {},
   "outputs": [],
   "source": [
    "from bs4 import BeautifulSoup\n",
    "import requests\n",
    "import pandas as pd\n",
    "import numpy as np\n",
    "from selenium import webdriver\n",
    "from time import sleep\n",
    "from selenium.webdriver.common.by import By"
   ]
  },
  {
   "cell_type": "code",
   "execution_count": 26,
   "id": "b5c5d148",
   "metadata": {},
   "outputs": [
    {
     "name": "stderr",
     "output_type": "stream",
     "text": [
      "C:\\Users\\DEEPAK VERMA\\AppData\\Local\\Temp\\ipykernel_5824\\1454730213.py:2: DeprecationWarning: executable_path has been deprecated, please pass in a Service object\n",
      "  driver = webdriver.Chrome(executable_path= r\"C:\\api\\chromedriver.exe\")\n"
     ]
    }
   ],
   "source": [
    "# call the webdriver and start the crome\n",
    "driver = webdriver.Chrome(executable_path= r\"C:\\api\\chromedriver.exe\")\n",
    "driver.maximize_window()"
   ]
  },
  {
   "cell_type": "code",
   "execution_count": 27,
   "id": "b33261b2",
   "metadata": {},
   "outputs": [],
   "source": [
    "# define one base_url of the sites\n",
    "base_url = 'https://www.iplt20.com/stats/'\n",
    "#list of all the sessions\n",
    "session_list = list(range(2008,2024))\n",
    "# create one dictionary of all the sessions\n",
    "all_session_url = {}\n",
    "for i in range(2008,2024):\n",
    "    all_session_url[i] = base_url+str(i)\n",
    "    \n"
   ]
  },
  {
   "cell_type": "code",
   "execution_count": 37,
   "id": "9f47ef53",
   "metadata": {},
   "outputs": [],
   "source": [
    "def get_session_stats(url):\n",
    "    driver.get(url)\n",
    "    sleep(5)\n",
    "    try:\n",
    "        driver.find_element(By.XPATH, \"/html/body/div[3]/div/button\").click()\n",
    "        sleep(2)\n",
    "    except:\n",
    "        print(\"working\")\n",
    "    view_all = driver.find_element(By.XPATH, \"/html/body/div[2]/div[4]/section/div/div[3]/div[4]/div[3]/div/div[1]/div/a\")\n",
    "    driver.execute_script(\"arguments[0].click();\", view_all)\n",
    "    html = driver.page_source\n",
    "    soup = BeautifulSoup(html)\n",
    "    all_tr_tag = soup.find_all(\"tr\")\n",
    "    col = [i.text for i in all_tr_tag[0]]\n",
    "    stats_list = []\n",
    "    for i in all_tr_tag[1:]:\n",
    "        stats_list.append([j.text for j in i.find_all(\"td\")])\n",
    "    df = pd.DataFrame(stats_list,  columns=col)\n",
    "    df['session'] = url[-4:]\n",
    "    df.dropna(inplace = True)\n",
    "    print(\"**********************\")\n",
    "    print(url[-4:],\"scraped successfully\")\n",
    "    return df"
   ]
  },
  {
   "cell_type": "code",
   "execution_count": 29,
   "id": "b930ff87",
   "metadata": {},
   "outputs": [],
   "source": [
    "df = get_session_stats(all_session_url[2008])"
   ]
  },
  {
   "cell_type": "code",
   "execution_count": 35,
   "id": "af4ecc86",
   "metadata": {},
   "outputs": [
    {
     "name": "stdout",
     "output_type": "stream",
     "text": [
      "working\n",
      "working\n",
      "working\n",
      "working\n",
      "working\n",
      "working\n",
      "working\n",
      "working\n",
      "working\n",
      "working\n",
      "working\n",
      "working\n",
      "working\n",
      "working\n",
      "working\n"
     ]
    }
   ],
   "source": [
    "for i in list(all_session_url.values())[1:]:\n",
    "    new_df = get_session_stats(i)\n",
    "    df = pd.concat([df, new_df], ignore_index=True)"
   ]
  },
  {
   "cell_type": "code",
   "execution_count": 38,
   "id": "558a1a64",
   "metadata": {},
   "outputs": [],
   "source": [
    "df.to_csv(\"batters.csv\")"
   ]
  },
  {
   "cell_type": "code",
   "execution_count": 34,
   "id": "302c940a",
   "metadata": {},
   "outputs": [
    {
     "data": {
      "text/plain": [
       "['https://www.iplt20.com/stats/2009',\n",
       " 'https://www.iplt20.com/stats/2010',\n",
       " 'https://www.iplt20.com/stats/2011',\n",
       " 'https://www.iplt20.com/stats/2012',\n",
       " 'https://www.iplt20.com/stats/2013',\n",
       " 'https://www.iplt20.com/stats/2014',\n",
       " 'https://www.iplt20.com/stats/2015',\n",
       " 'https://www.iplt20.com/stats/2016',\n",
       " 'https://www.iplt20.com/stats/2017',\n",
       " 'https://www.iplt20.com/stats/2018',\n",
       " 'https://www.iplt20.com/stats/2019',\n",
       " 'https://www.iplt20.com/stats/2020',\n",
       " 'https://www.iplt20.com/stats/2021',\n",
       " 'https://www.iplt20.com/stats/2022',\n",
       " 'https://www.iplt20.com/stats/2023']"
      ]
     },
     "execution_count": 34,
     "metadata": {},
     "output_type": "execute_result"
    }
   ],
   "source": []
  },
  {
   "cell_type": "code",
   "execution_count": null,
   "id": "f26867b8",
   "metadata": {},
   "outputs": [],
   "source": []
  }
 ],
 "metadata": {
  "kernelspec": {
   "display_name": "Python 3 (ipykernel)",
   "language": "python",
   "name": "python3"
  },
  "language_info": {
   "codemirror_mode": {
    "name": "ipython",
    "version": 3
   },
   "file_extension": ".py",
   "mimetype": "text/x-python",
   "name": "python",
   "nbconvert_exporter": "python",
   "pygments_lexer": "ipython3",
   "version": "3.10.9"
  }
 },
 "nbformat": 4,
 "nbformat_minor": 5
}

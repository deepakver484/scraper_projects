{
 "cells": [
  {
   "cell_type": "code",
   "execution_count": 1,
   "id": "c587abbf",
   "metadata": {},
   "outputs": [],
   "source": [
    "from bs4 import BeautifulSoup\n",
    "import requests\n",
    "import pandas as pd\n",
    "import numpy as np\n",
    "from selenium import webdriver\n",
    "from time import sleep\n",
    "from selenium.webdriver.common.by import By"
   ]
  },
  {
   "cell_type": "code",
   "execution_count": 2,
   "id": "4177afb9",
   "metadata": {},
   "outputs": [
    {
     "name": "stderr",
     "output_type": "stream",
     "text": [
      "C:\\Users\\DEEPAK VERMA\\AppData\\Local\\Temp\\ipykernel_20160\\1454730213.py:2: DeprecationWarning: executable_path has been deprecated, please pass in a Service object\n",
      "  driver = webdriver.Chrome(executable_path= r\"C:\\api\\chromedriver.exe\")\n"
     ]
    }
   ],
   "source": [
    "# call the webdriver and start the crome\n",
    "driver = webdriver.Chrome(executable_path= r\"C:\\api\\chromedriver.exe\")\n",
    "driver.maximize_window()"
   ]
  },
  {
   "cell_type": "code",
   "execution_count": 3,
   "id": "2fbd608e",
   "metadata": {},
   "outputs": [],
   "source": [
    "df = pd.read_csv('matches.csv')"
   ]
  },
  {
   "cell_type": "code",
   "execution_count": 8,
   "id": "96bdf1bb",
   "metadata": {},
   "outputs": [],
   "source": [
    "def batter_score_card(batter):\n",
    "    col = [i.text for i in batter.find_all(\"tr\")[0] if (i.text != \" \" and i.text != \"\")]\n",
    "    col.insert(1, \" unnamed\")\n",
    "    score_card = []\n",
    "    for j in batter.find_all(\"tr\")[1:]:\n",
    "        score_card.append([i.text for i in j if (i.text != \" \" and i.text != \"\" and i.text != \"  \")])\n",
    "    df_batter = pd.DataFrame(score_card, columns=col)\n",
    "    return df_batter\n"
   ]
  },
  {
   "cell_type": "code",
   "execution_count": 9,
   "id": "d8238fb9",
   "metadata": {},
   "outputs": [],
   "source": [
    "def bowler_score_card(bowler):\n",
    "    col = [i.text for i in bowler.find_all(\"tr\")[0] if (i.text != \" \" and i.text != \"\")]\n",
    "#     col.insert(1, \" unnamed\")\n",
    "    score_card = []\n",
    "    for j in bowler.find_all(\"tr\")[1:]:\n",
    "        score_card.append([i.text for i in j if (i.text != \" \" and i.text != \"\" and i.text != \"  \")])\n",
    "    df_bowler = pd.DataFrame(score_card, columns=col)\n",
    "    \n",
    "    return df_bowler"
   ]
  },
  {
   "cell_type": "code",
   "execution_count": 10,
   "id": "d9664907",
   "metadata": {},
   "outputs": [],
   "source": [
    "def team_scorecard(link):\n",
    "    df_batter = pd.DataFrame()\n",
    "    df_bowler = pd.DataFrame()\n",
    "    driver.get(link)\n",
    "    sleep(2)\n",
    "    # for year 2022 and above\n",
    "    driver.find_element(By.XPATH, \"/html/body/div[3]/div/section[1]/div[1]/a[2]\").click() #this is for year 2022 and further\n",
    "    sleep(1)\n",
    "\n",
    "    #for super over result\n",
    "#     driver.find_element(By.XPATH, \"/html/body/div[2]/div/section[2]/div/div/div[5]/div[1]/div/a[2]\").click()\n",
    "#     sleep(1)\n",
    "    #end\n",
    "    html = driver.page_source\n",
    "    soup = BeautifulSoup(html)\n",
    "#     date = soup.find(\"span\", class_ = \"ms-matchdate ng-binding\").text\n",
    "    try:\n",
    "        team_name = soup.find(\"span\", class_ = \"sh_teamName mob-hide ng-binding ng-scope\").text\n",
    "        date = soup.find(\"span\", class_ = \"ms-matchdate ng-binding\").text\n",
    "        table_content1 = soup.find_all(\"table\", class_ = \"ap-scroreboard-table table-striped\")\n",
    "        new_batter = batter_score_card(table_content1[0])\n",
    "        new_batter[\"team\"] = team_name \n",
    "        new_bowler = bowler_score_card(table_content1[1])\n",
    "        new_bowler[\"team\"] = team_name \n",
    "#         driver.find_element(By.XPATH, \"/html/body/div[2]/div/section[2]/div/div/div[5]/div[1]/div/a[1]\").click()\n",
    "         # use this address from year 2022\n",
    "        driver.find_element(By.XPATH, \"/html/body/div[3]/div/section[2]/div/div/div[5]/div[1]/div/a[1]\").click()\n",
    "        #for super over\n",
    "#         driver.find_element(By.XPATH, \"/html/body/div[2]/div/section[2]/div/div/div[5]/div[1]/div/a[1]\").click()    \n",
    "        #end /html/body/div[2]/div/section[2]/div/div/div[5]/div[1]/div/a[1]\n",
    "        sleep(2) \n",
    "        html = driver.page_source\n",
    "        soup = BeautifulSoup(html)\n",
    "        team_name1 = soup.find(\"span\", class_ = \"sh_teamName mob-hide ng-binding ng-scope\").text\n",
    "        table_content2 = soup.find_all(\"table\", class_ = \"ap-scroreboard-table table-striped\")\n",
    "        new_batter1 = batter_score_card(table_content2[0])\n",
    "        new_batter1[\"team\"] = team_name1 \n",
    "        new_bowler1 = bowler_score_card(table_content2[1])\n",
    "        new_bowler1[\"team\"] = team_name1\n",
    "        df_batter = pd.concat([df_batter, new_batter], ignore_index=True)\n",
    "        df_batter = pd.concat([df_batter, new_batter1], ignore_index=True)\n",
    "        df_bowler = pd.concat([df_bowler, new_bowler], ignore_index=True)\n",
    "        df_bowler = pd.concat([df_bowler, new_bowler1], ignore_index=True)\n",
    "        df_bowler[\"date\"] = date\n",
    "        df_batter[\"date\"] = date\n",
    "    except:\n",
    "        print(link, \"data not available\")\n",
    "        df_batter\n",
    "    return df_batter, df_bowler\n",
    "    "
   ]
  },
  {
   "cell_type": "code",
   "execution_count": 11,
   "id": "766fe257",
   "metadata": {},
   "outputs": [
    {
     "name": "stdout",
     "output_type": "stream",
     "text": [
      "https://www.iplt20.com/match/2023/1045 scraped\n",
      "https://www.iplt20.com/match/2023/1046 scraped\n"
     ]
    }
   ],
   "source": [
    "df_batter = pd.read_csv(\"batters_score_card.csv\")\n",
    "df_bowler = pd.read_csv(\"bowlers_score_card.csv\")\n",
    "# df_batter = pd.DataFrame()\n",
    "# df_bowler = pd.DataFrame()\n",
    "\n",
    "for i in last_two_links:\n",
    "    df_batter1, df_bowler1 = team_scorecard(i)\n",
    "    df_batter = pd.concat([df_batter, df_batter1], ignore_index=True)\n",
    "    df_bowler = pd.concat([df_bowler, df_bowler1], ignore_index= True)\n",
    "    print(i, \"scraped\")\n",
    "\n",
    "\n",
    "df_batter.to_csv(\"batters_score_card.csv\", index=False)\n",
    "df_bowler.to_csv(\"bowlers_score_card.csv\", index=False)"
   ]
  },
  {
   "cell_type": "code",
   "execution_count": 13,
   "id": "9d78c224",
   "metadata": {},
   "outputs": [],
   "source": [
    "new_link_list = [\"https://www.iplt20.com/match/2009/10068\",\"https://www.iplt20.com/match/2010/10133\",\n",
    "                \"https://www.iplt20.com/match/2013/10347\", \"https://www.iplt20.com/match/2013/10333\",\n",
    "                \"https://www.iplt20.com/match/2014/10421\",\"https://www.iplt20.com/match/2015/10480\",\n",
    "                \"https://www.iplt20.com/match/2017/10617\",\"https://www.iplt20.com/match/2019/10754\",\n",
    "                \"https://www.iplt20.com/match/2019/10713\",\"https://www.iplt20.com/match/2020/10803\", \n",
    "                \"https://www.iplt20.com/match/2020/10802\",\"https://www.iplt20.com/match/2020/10777\", \n",
    "                \"https://www.iplt20.com/match/2020/10769\",\"https://www.iplt20.com/match/2021/10851\"]"
   ]
  },
  {
   "cell_type": "code",
   "execution_count": 12,
   "id": "381e3f92",
   "metadata": {},
   "outputs": [],
   "source": [
    "match_cancelled = [\"https://www.iplt20.com/match/2008/10046\", \"https://www.iplt20.com/match/2009/10071\",\n",
    "                  \"https://www.iplt20.com/match/2009/10065\", \"https://www.iplt20.com/match/2011/10197\",\n",
    "                  \"https://www.iplt20.com/match/2012/10284\", \"https://www.iplt20.com/match/2012/10282\",\n",
    "                  \"https://www.iplt20.com/match/2015/10487\", \"https://www.iplt20.com/match/2017/10611\",\n",
    "                  ]"
   ]
  },
  {
   "cell_type": "code",
   "execution_count": 6,
   "id": "93a90190",
   "metadata": {},
   "outputs": [],
   "source": [
    "last_two_links = [\"https://www.iplt20.com/match/2023/1045\", \"https://www.iplt20.com/match/2023/1046\"]"
   ]
  },
  {
   "cell_type": "code",
   "execution_count": null,
   "id": "e07ecc86",
   "metadata": {},
   "outputs": [],
   "source": []
  }
 ],
 "metadata": {
  "kernelspec": {
   "display_name": "Python 3 (ipykernel)",
   "language": "python",
   "name": "python3"
  },
  "language_info": {
   "codemirror_mode": {
    "name": "ipython",
    "version": 3
   },
   "file_extension": ".py",
   "mimetype": "text/x-python",
   "name": "python",
   "nbconvert_exporter": "python",
   "pygments_lexer": "ipython3",
   "version": "3.10.9"
  }
 },
 "nbformat": 4,
 "nbformat_minor": 5
}
